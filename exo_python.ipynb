{
  "nbformat": 4,
  "nbformat_minor": 0,
  "metadata": {
    "colab": {
      "name": "exo python.ipynb",
      "provenance": [],
      "collapsed_sections": [],
      "authorship_tag": "ABX9TyNpRGSORMaOaO0wzXIAegeT",
      "include_colab_link": true
    },
    "kernelspec": {
      "name": "python3",
      "display_name": "Python 3"
    }
  },
  "cells": [
    {
      "cell_type": "markdown",
      "metadata": {
        "id": "view-in-github",
        "colab_type": "text"
      },
      "source": [
        "<a href=\"https://colab.research.google.com/github/Timothee-first/silo/blob/master/exo_python.ipynb\" target=\"_parent\"><img src=\"https://colab.research.google.com/assets/colab-badge.svg\" alt=\"Open In Colab\"/></a>"
      ]
    },
    {
      "cell_type": "code",
      "metadata": {
        "colab": {
          "base_uri": "https://localhost:8080/"
        },
        "id": "VMihWo9Xi6cS",
        "outputId": "31803883-255a-4f51-9fdd-86e365b1eec3"
      },
      "source": [
        "''' creation dico pour y mettre nos segments'''\r\n",
        "\r\n",
        "nombre_segment = {0: 6, \r\n",
        "                   1: 2, \r\n",
        "                   2: 5,\r\n",
        "                   3: 5,\r\n",
        "                   4: 4,\r\n",
        "                   5: 5,\r\n",
        "                   6: 6,\r\n",
        "                   7: 3,\r\n",
        "                   8: 7,\r\n",
        "                   9: 6\r\n",
        "                   }\r\n",
        "\r\n",
        "'''variable temps'''\r\n",
        "\r\n",
        "t = \"00:00\", \"23:59\"\r\n",
        "def calc(t):\r\n",
        "  n = []\r\n",
        "  s = 0\r\n",
        "  for i in range(len(t)):\r\n",
        "    try:\r\n",
        "      s += nombre_segment[int(t[i])]\r\n",
        "    except:\r\n",
        "        pass\r\n",
        "  print(s)\r\n",
        "  f = open(\"heures.csv\", \"a\") \r\n",
        "  f.write(t +',' + str(s) + \"\\n\") \r\n",
        "  f.close()\r\n",
        " \r\n",
        "\r\n",
        "calc(t)"
      ],
      "execution_count": 15,
      "outputs": [
        {
          "output_type": "stream",
          "text": [
            "15\n"
          ],
          "name": "stdout"
        }
      ]
    },
    {
      "cell_type": "code",
      "metadata": {
        "colab": {
          "base_uri": "https://localhost:8080/"
        },
        "id": "ZI-x983ZTIHE",
        "outputId": "76cd4da6-1521-428e-cd03-446b05ff2f3f"
      },
      "source": [
        "#question 3 et 4 \r\n",
        "\r\n",
        "import time\r\n",
        "\r\n",
        "#time_convert(3600)\r\n",
        "min_s = 100000\r\n",
        "max_s = 0\r\n",
        "min_s_t = ''\r\n",
        "max_s_t = ''\r\n",
        "\r\n",
        "#notre format est pris 24h * 60minutes * 60 secondes\r\n",
        "for sec in range(0, 24*60*60, 60):\r\n",
        "  mins = sec // 60\r\n",
        "  sec = sec % 60\r\n",
        "  hours = mins // 60\r\n",
        "  mins = mins % 60\r\n",
        "\r\n",
        "  # format de notre heure en deux dimensions\r\n",
        "  t = \"{0:0=2d}:{1:0=2d}\".format(int(hours),int(mins))\r\n",
        "  s = 0\r\n",
        "  for i in range(len(t)):\r\n",
        "    try:\r\n",
        "      s += nombre_segment[int(t[i])]\r\n",
        "    except:\r\n",
        "        pass\r\n",
        "  f = open(\"heures.csv\", \"a\")\r\n",
        "  f.write(t +',' + str(s)+ '\\n')\r\n",
        "  f.close()\r\n",
        "  if s > max_s:\r\n",
        "    max_s = s\r\n",
        "    max_s_t = t\r\n",
        "  if s < min_s:\r\n",
        "    min_s = s\r\n",
        "    min_s_t = t\r\n",
        "\r\n",
        "#nous affichons le nombre min de segment et son temps ainsi que le max de segment et son temps\r\n",
        "print('Min segment = '+str(min_s) + ' et temps = ' + min_s_t)\r\n",
        "print('Max segment = '+str(max_s) + ' et temps = ' + max_s_t)\r\n",
        "\r\n"
      ],
      "execution_count": 17,
      "outputs": [
        {
          "output_type": "stream",
          "text": [
            "Min segment = 8 et temps = 11:11\n",
            "Max segment = 26 et temps = 08:08\n"
          ],
          "name": "stdout"
        }
      ]
    },
    {
      "cell_type": "code",
      "metadata": {
        "colab": {
          "base_uri": "https://localhost:8080/"
        },
        "id": "IcHOB4BRTInw",
        "outputId": "5b5c3dd1-7cdc-4962-b360-b6b1d16a26b8"
      },
      "source": [
        "#question 5\r\n",
        "\r\n",
        "import time\r\n",
        "\r\n",
        "#time_convert(3600)\r\n",
        "min_s = 1000000\r\n",
        "max_s = 0\r\n",
        "min_s_t = ''\r\n",
        "max_s_t = ''\r\n",
        "for sec in range(0, 24*60*60, 60):\r\n",
        "  mins = sec // 60\r\n",
        "  sec = sec % 60\r\n",
        "  hours = mins // 60\r\n",
        "  mins = mins % 60\r\n",
        "  \r\n",
        "  # on change ici le format de notre date qui passe de 06:00 a 6:00 \r\n",
        "  t = \"{0}:{1:0=2d}\".format(int(hours),int(mins))\r\n",
        "  s = 0\r\n",
        "  for i in range(len(t)):\r\n",
        "    try:\r\n",
        "      s += nombre_segment[int(t[i])]\r\n",
        "    except:\r\n",
        "        pass\r\n",
        "  f = open(\"heures.csv\", \"a\")\r\n",
        "  f.write(t +',' + str(s)+ '\\n')\r\n",
        "  f.close()\r\n",
        "  if s > max_s:\r\n",
        "    max_s = s\r\n",
        "    max_s_t = t\r\n",
        "  if s < min_s:\r\n",
        "    min_s = s\r\n",
        "    min_s_t = t\r\n",
        "\r\n",
        "\r\n",
        "print('Min segment = '+str(min_s) + ' et temps = ' + min_s_t)\r\n",
        "print('Max segment = '+str(max_s) + ' et temps = ' + max_s_t)\r\n",
        "\r\n"
      ],
      "execution_count": 18,
      "outputs": [
        {
          "output_type": "stream",
          "text": [
            "Min segment = 6 et temps = 1:11\n",
            "Max segment = 24 et temps = 20:08\n"
          ],
          "name": "stdout"
        }
      ]
    },
    {
      "cell_type": "code",
      "metadata": {
        "colab": {
          "base_uri": "https://localhost:8080/"
        },
        "id": "tJyE6qwOa6Vk",
        "outputId": "54937be5-d10b-41cf-cb18-17e74e590642"
      },
      "source": [
        "#question 6\r\n",
        "import time\r\n",
        "\r\n",
        "#time_convert(3600)\r\n",
        "min_s = 1000000\r\n",
        "max_s = 0\r\n",
        "min_s_t = ''\r\n",
        "max_s_t = ''\r\n",
        "\r\n",
        "# nous allons changer l'heure maximale qui etait de 24h a 17h pour le faire\r\n",
        "for sec in range(0, 17*60*60, 60):\r\n",
        "  mins = sec // 60\r\n",
        "  sec = sec % 60\r\n",
        "  hours = mins // 60\r\n",
        "  mins = mins % 60\r\n",
        "  t = \"{0}:{1:0=2d}\".format(int(hours),int(mins))\r\n",
        "  s = 0\r\n",
        "  for i in range(len(t)):\r\n",
        "    try:\r\n",
        "      s += nombre_segment[int(t[i])]\r\n",
        "    except:\r\n",
        "        pass\r\n",
        "  f = open(\"heures.csv\", \"a\")\r\n",
        "  f.write(t +',' + str(s)+ '\\n')\r\n",
        "  f.close()\r\n",
        "  if s > max_s:\r\n",
        "    max_s = s\r\n",
        "    max_s_t = t\r\n",
        "  if s < min_s:\r\n",
        "    min_s = s\r\n",
        "    min_s_t = t\r\n",
        "\r\n",
        "#nous affichons le nombre min de segment et son temps ainsi que le max de segment et son temps\r\n",
        "print('Min segment = '+str(min_s) + ' et temps = ' + min_s_t)\r\n",
        "print('Max segment = '+str(max_s) + ' et temps = ' + max_s_t)\r\n",
        "\r\n"
      ],
      "execution_count": 19,
      "outputs": [
        {
          "output_type": "stream",
          "text": [
            "Min segment = 6 et temps = 1:11\n",
            "Max segment = 21 et temps = 10:08\n"
          ],
          "name": "stdout"
        }
      ]
    }
  ]
}